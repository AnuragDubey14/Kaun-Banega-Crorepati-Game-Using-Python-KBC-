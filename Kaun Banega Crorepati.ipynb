{
 "cells": [
  {
   "cell_type": "markdown",
   "id": "4a0f89e6",
   "metadata": {},
   "source": [
    "# Kaun Banega Crorepati Game Using Python "
   ]
  },
  {
   "cell_type": "code",
   "execution_count": null,
   "id": "80cd01a3",
   "metadata": {},
   "outputs": [],
   "source": [
    "print(\"_______________________Welcome to Kaun Banega Crorepati_______________________\\n\\n \")\n",
    "#QUESTIONS\n",
    "que=[\"Question1: Which actor's son is Tiger who made his debut as a hero in the film 'Heropanti'?\",\n",
    "  \"Question2: Who among the following is one of the main characters of Ramayana who also appears in Mahabharata?\",\n",
    "  \"Question3: What is the name of the campaign launched by the Government of India to promote the use of toilets?\",\n",
    "  \"Question4: Which city is known as Pink City in India?\",\n",
    "   \"Question5: How many states are there in India?\"]\n",
    "#OPTIONS\n",
    "opt=['''(A) Sunil Shetty   \n",
    "(B) Jackie Shroff \n",
    "(C) Sunny Deol\n",
    "(D) Anil Kapoor''',\n",
    "'''(A) Hanuman\n",
    "(B) Vedvyas \n",
    "(C) Dasaratha\n",
    "(D) Duryodhana''',\n",
    "'''(A) Curtain is curtain \n",
    "(B) door closed \n",
    "(C) Open minded \n",
    "(D) you don't see us''',\n",
    "'''(A) Banglore\n",
    "(B) Maysore \n",
    "(C) Jaipur \n",
    "(D) Kochi''',\n",
    "'''(A) 28 \n",
    "(B) 29 \n",
    "(C) 31\n",
    "(D) 31''']\n",
    "\n",
    "#ANSWER\n",
    "ans=[\"B\",\"A\",\"B\",\"C\",\"B\"]\n",
    "#REWARD\n",
    "reward=[1000,3000,5000,7000,9000]\n",
    "def lifeline50():\n",
    "    for i in  range(5):\n",
    "        if c==1:\n",
    "            print(opt[i])\n",
    "n=5\n",
    "money=0\n",
    "for i in range(n):\n",
    "    print(que[i],\"\\n\")\n",
    "    print(opt[i],\"\\n\")\n",
    "    B=input(\"Choose Correct Option or press 1 for lifeline: \").upper()\n",
    "    if ans[i]==B:\n",
    "        money=money+reward[i]\n",
    "        print(\" Yeah you won :\",reward[i],\"Rupees.\\n\")\n",
    "    else:\n",
    "        print(\"You Choose Incorrect option.\\n\")\n",
    "        print( \"Correct answer is: \",ans[i])\n",
    "        break\n",
    "    if B==\"1\":\n",
    "        lifeline()\n",
    "        \n",
    "print(\"Match Over\\n\")\n",
    "print(\"Your Total Reward :\",money)\n",
    "\n",
    "\n",
    "    \n",
    "    "
   ]
  }
 ],
 "metadata": {
  "kernelspec": {
   "display_name": "Python 3 (ipykernel)",
   "language": "python",
   "name": "python3"
  },
  "language_info": {
   "codemirror_mode": {
    "name": "ipython",
    "version": 3
   },
   "file_extension": ".py",
   "mimetype": "text/x-python",
   "name": "python",
   "nbconvert_exporter": "python",
   "pygments_lexer": "ipython3",
   "version": "3.11.1"
  }
 },
 "nbformat": 4,
 "nbformat_minor": 5
}
